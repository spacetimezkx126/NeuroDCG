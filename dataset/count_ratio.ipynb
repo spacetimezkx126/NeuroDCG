{
 "cells": [
  {
   "cell_type": "code",
   "execution_count": 1,
   "id": "d501a868-744b-445d-b545-33b709d73dd5",
   "metadata": {},
   "outputs": [
    {
     "name": "stdout",
     "output_type": "stream",
     "text": [
      "39 266326\n"
     ]
    }
   ],
   "source": [
    "import json\n",
    "import os\n",
    "def is_zero(path):\n",
    "    # print(path)\n",
    "    with open(path,\"r\")as f:\n",
    "        data_json = json.load(f)\n",
    "        f.close()\n",
    "    # print(data_json)\n",
    "    for k in range(len(data_json[0])):\n",
    "        # print(data_json[0][k])\n",
    "        scores = data_json[0][k][\"scores\"]\n",
    "        # print(scores)\n",
    "        sum1 = 0\n",
    "        for key in scores:\n",
    "            if key !=\"News_content\":\n",
    "                sum1 += scores[key]\n",
    "        if sum1 == 0:\n",
    "            return True\n",
    "    return False\n",
    "path1 = \"/root/autodl-tmp/dir1/causal-ts/my_code/NeuroDCG/dataset/cmin_cn_extracted\"\n",
    "path_to = \"/root/autodl-tmp/dir1/causal-ts/my_code/NeuroDCG/dataset/cn_score\"\n",
    "companies = os.listdir(path1)\n",
    "count = 0\n",
    "count_al =0\n",
    "for comp in companies:\n",
    "    path_file = os.path.join(path_to,comp)\n",
    "    files = os.listdir(path_file)\n",
    "    for file in files:\n",
    "        try:\n",
    "            if is_zero(os.path.join(path_to,comp,file)) :\n",
    "                count+=1\n",
    "            else:\n",
    "                count_al +=1\n",
    "        except:\n",
    "            pass\n",
    "print(count,count_al)\n",
    "            \n",
    "    "
   ]
  }
 ],
 "metadata": {
  "kernelspec": {
   "display_name": "Python 3 (ipykernel)",
   "language": "python",
   "name": "python3"
  },
  "language_info": {
   "codemirror_mode": {
    "name": "ipython",
    "version": 3
   },
   "file_extension": ".py",
   "mimetype": "text/x-python",
   "name": "python",
   "nbconvert_exporter": "python",
   "pygments_lexer": "ipython3",
   "version": "3.10.8"
  }
 },
 "nbformat": 4,
 "nbformat_minor": 5
}
